{
  "nbformat": 4,
  "nbformat_minor": 0,
  "metadata": {
    "colab": {
      "name": "Introduction_to_tensorflow_v1.x.ipynb",
      "provenance": [],
      "collapsed_sections": []
    },
    "kernelspec": {
      "name": "python3",
      "display_name": "Python 3"
    }
  },
  "cells": [
    {
      "cell_type": "markdown",
      "metadata": {
        "id": "oT213_2Vmxym",
        "colab_type": "text"
      },
      "source": [
        "#Introduction to Tensorflow"
      ]
    },
    {
      "cell_type": "markdown",
      "metadata": {
        "id": "dQaLKVDCm4fr",
        "colab_type": "text"
      },
      "source": [
        "######Importing the numpy and tensorflow with their idiomatic alias\n"
      ]
    },
    {
      "cell_type": "code",
      "metadata": {
        "id": "yhNywKxnm2BL",
        "colab_type": "code",
        "colab": {
          "base_uri": "https://localhost:8080/",
          "height": 64
        },
        "outputId": "7f52ee3c-6866-4edb-c05f-f7a40cf371fa"
      },
      "source": [
        "import tensorflow as tf"
      ],
      "execution_count": 1,
      "outputs": [
        {
          "output_type": "display_data",
          "data": {
            "text/html": [
              "<p style=\"color: red;\">\n",
              "The default version of TensorFlow in Colab will soon switch to TensorFlow 2.x.<br>\n",
              "We recommend you <a href=\"https://www.tensorflow.org/guide/migrate\" target=\"_blank\">upgrade</a> now \n",
              "or ensure your notebook will continue to use TensorFlow 1.x via the <code>%tensorflow_version 1.x</code> magic:\n",
              "<a href=\"https://colab.research.google.com/notebooks/tensorflow_version.ipynb\" target=\"_blank\">more info</a>.</p>\n"
            ],
            "text/plain": [
              "<IPython.core.display.HTML object>"
            ]
          },
          "metadata": {
            "tags": []
          }
        }
      ]
    },
    {
      "cell_type": "markdown",
      "metadata": {
        "id": "4Wih4QLroRnj",
        "colab_type": "text"
      },
      "source": [
        "######Checking the current version"
      ]
    },
    {
      "cell_type": "code",
      "metadata": {
        "id": "slcfajzWoQ3i",
        "colab_type": "code",
        "colab": {
          "base_uri": "https://localhost:8080/",
          "height": 34
        },
        "outputId": "50b6a726-ba1e-471f-84fc-f4f8153993c0"
      },
      "source": [
        "print(tf.__version__)"
      ],
      "execution_count": 2,
      "outputs": [
        {
          "output_type": "stream",
          "text": [
            "1.15.0\n"
          ],
          "name": "stdout"
        }
      ]
    },
    {
      "cell_type": "code",
      "metadata": {
        "id": "dUn8TSIRoXcO",
        "colab_type": "code",
        "colab": {}
      },
      "source": [
        "# Defining a variable\n",
        "w = tf.Variable(0, dtype = tf.float32)"
      ],
      "execution_count": 0,
      "outputs": []
    },
    {
      "cell_type": "markdown",
      "metadata": {
        "id": "Nw_VCDCTp2Wg",
        "colab_type": "text"
      },
      "source": [
        "###Cost Function\n",
        "$$J(w,b) = w^2 -10w +25$$"
      ]
    },
    {
      "cell_type": "code",
      "metadata": {
        "id": "oloM0njfpNWA",
        "colab_type": "code",
        "colab": {}
      },
      "source": [
        "cost = tf.add(tf.add(w**2, tf.multiply(-10., w)), 25)\n",
        "# cost = w**2 - 10*w + 25\n",
        "# The commented cost function can be used as well."
      ],
      "execution_count": 0,
      "outputs": []
    },
    {
      "cell_type": "code",
      "metadata": {
        "id": "kwD7j0oiq0BA",
        "colab_type": "code",
        "colab": {
          "base_uri": "https://localhost:8080/",
          "height": 89
        },
        "outputId": "2f1e2725-1ffd-40ee-caf8-4300047a7bba"
      },
      "source": [
        "# Training using Gradient Descent with learning_rate 0.01 and goal is to minimize the cost\n",
        "train = tf.train.GradientDescentOptimizer(0.01).minimize(cost)"
      ],
      "execution_count": 8,
      "outputs": [
        {
          "output_type": "stream",
          "text": [
            "WARNING:tensorflow:From /usr/local/lib/python3.6/dist-packages/tensorflow_core/python/ops/math_grad.py:1375: where (from tensorflow.python.ops.array_ops) is deprecated and will be removed in a future version.\n",
            "Instructions for updating:\n",
            "Use tf.where in 2.0, which has the same broadcast rule as np.where\n"
          ],
          "name": "stdout"
        }
      ]
    },
    {
      "cell_type": "code",
      "metadata": {
        "id": "uzB26UDzrYYZ",
        "colab_type": "code",
        "colab": {
          "base_uri": "https://localhost:8080/",
          "height": 52
        },
        "outputId": "12559551-fff9-4e55-d3cd-12327bfec679"
      },
      "source": [
        "print(w)\n",
        "# Initializing the variables\n",
        "init = tf.global_variables_initializer()\n",
        "print(w)"
      ],
      "execution_count": 9,
      "outputs": [
        {
          "output_type": "stream",
          "text": [
            "<tf.Variable 'Variable:0' shape=() dtype=float32_ref>\n",
            "<tf.Variable 'Variable:0' shape=() dtype=float32_ref>\n"
          ],
          "name": "stdout"
        }
      ]
    },
    {
      "cell_type": "code",
      "metadata": {
        "id": "gcaZ2mu0rpQS",
        "colab_type": "code",
        "colab": {
          "base_uri": "https://localhost:8080/",
          "height": 34
        },
        "outputId": "1c5acdce-52ba-478e-9dc8-e6b597d3f092"
      },
      "source": [
        "# Creating session\n",
        "session = tf.Session()\n",
        "\n",
        "# Running the session\n",
        "session.run(init)\n",
        "print(session.run(w))"
      ],
      "execution_count": 11,
      "outputs": [
        {
          "output_type": "stream",
          "text": [
            "0.0\n"
          ],
          "name": "stdout"
        }
      ]
    },
    {
      "cell_type": "code",
      "metadata": {
        "id": "yzd86S6xr4HP",
        "colab_type": "code",
        "colab": {
          "base_uri": "https://localhost:8080/",
          "height": 34
        },
        "outputId": "3b9d68f2-847d-41c6-dffd-aa0e51a7e958"
      },
      "source": [
        "# One step of GD\n",
        "session.run(train)\n",
        "print(session.run(w))"
      ],
      "execution_count": 13,
      "outputs": [
        {
          "output_type": "stream",
          "text": [
            "0.099999994\n"
          ],
          "name": "stdout"
        }
      ]
    },
    {
      "cell_type": "code",
      "metadata": {
        "id": "QGqcRlxbsBV2",
        "colab_type": "code",
        "colab": {
          "base_uri": "https://localhost:8080/",
          "height": 34
        },
        "outputId": "354fcc5b-ba82-4790-e917-311a05618d2e"
      },
      "source": [
        "# 10000 more steps of GD\n",
        "for i in range(10000):\n",
        "    session.run(train)\n",
        "print(session.run(w))"
      ],
      "execution_count": 18,
      "outputs": [
        {
          "output_type": "stream",
          "text": [
            "4.999988\n"
          ],
          "name": "stdout"
        }
      ]
    },
    {
      "cell_type": "markdown",
      "metadata": {
        "id": "Pgjc5BqctFpb",
        "colab_type": "text"
      },
      "source": [
        "###Great we have got the result (Optimal value should have been 5)"
      ]
    },
    {
      "cell_type": "markdown",
      "metadata": {
        "id": "1ZC6KIhzLHVG",
        "colab_type": "text"
      },
      "source": [
        "##Now let's use the \"placeholder\" and \"feed_dict\" to train"
      ]
    },
    {
      "cell_type": "code",
      "metadata": {
        "id": "jCfu_TbjsXHM",
        "colab_type": "code",
        "colab": {
          "base_uri": "https://localhost:8080/",
          "height": 34
        },
        "outputId": "aed97413-c8a6-4350-f298-84875812bd26"
      },
      "source": [
        "import tensorflow as tf\n",
        "import numpy as np\n",
        "\n",
        "coefficients = np.array([[1.],\n",
        "                         [-10.],\n",
        "                         [25]])\n",
        "\n",
        "w = tf.Variable(0, dtype=tf.float32)\n",
        "x = tf.placeholder(dtype=tf.float32, shape=(3,1))\n",
        "\n",
        "cost = x[0][0]*w**2 + x[1][0]*w + x[2][0]\n",
        "\n",
        "train = tf.train.GradientDescentOptimizer(0.01).minimize(cost)\n",
        "\n",
        "init = tf.global_variables_initializer()\n",
        "session = tf.Session()\n",
        "session.run(init)\n",
        "for i in range(1000):\n",
        "    session.run(train, feed_dict={x: coefficients})\n",
        "print(session.run(w))"
      ],
      "execution_count": 28,
      "outputs": [
        {
          "output_type": "stream",
          "text": [
            "4.999988\n"
          ],
          "name": "stdout"
        }
      ]
    },
    {
      "cell_type": "code",
      "metadata": {
        "id": "ZSZc7o7UNEUQ",
        "colab_type": "code",
        "colab": {}
      },
      "source": [
        ""
      ],
      "execution_count": 0,
      "outputs": []
    }
  ]
}